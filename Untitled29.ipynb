{
 "cells": [
  {
   "cell_type": "markdown",
   "id": "81f13791-f508-480d-b155-c3ca4117141e",
   "metadata": {},
   "source": [
    "## Q1. What are the three measures of central tendency?"
   ]
  },
  {
   "cell_type": "code",
   "execution_count": null,
   "id": "00be82e5-ca5d-45d2-a2bc-ca4f26a2a196",
   "metadata": {},
   "outputs": [],
   "source": [
    "Mean: The mean is the sum of all values in a dataset divided by the total number of values. It is often referred to as the average. The formula for calculating the mean is:\n",
    "\n",
    "Mean\n",
    "=\n",
    "Sum of all values\n",
    "Number of values\n",
    "Mean= \n",
    "Number of values\n",
    "Sum of all values\n",
    "​\n",
    " \n",
    "\n",
    "Median: The median is the middle value of a dataset when the values are arranged in ascending or descending order. If the dataset has an odd number of values, the median is the middle value. If the dataset has an even number of values, the median is the average of the two middle values. The median is less affected by outliers compared to the mean.\n",
    "\n",
    "Mode: The mode is the value that appears most frequently in a dataset. A dataset may have one mode (unimodal), two modes (bimodal), or more than two modes (multimodal). If all values in the dataset occur with the same frequency, the dataset is said to have no mode.\n",
    "\n",
    "These measures of central tendency are used to summarize and describe the central or typical value of a dataset. They provide insights into the distribution and characteristics of the data. Depending on the nature of the data and the objectives of the analysis, one or more of these measures may be used to describe the central tendency of the dataset."
   ]
  },
  {
   "cell_type": "markdown",
   "id": "927a3fea-b961-4ed6-911c-8e6bd518e85d",
   "metadata": {},
   "source": [
    "## Q2. What is the difference between the mean, median, and mode? How are they used to measure the\n",
    "central tendency of a dataset?"
   ]
  },
  {
   "cell_type": "code",
   "execution_count": null,
   "id": "66e31151-2d3f-492d-881f-7e48f6c98cbe",
   "metadata": {},
   "outputs": [],
   "source": []
  }
 ],
 "metadata": {
  "kernelspec": {
   "display_name": "Python 3 (ipykernel)",
   "language": "python",
   "name": "python3"
  },
  "language_info": {
   "codemirror_mode": {
    "name": "ipython",
    "version": 3
   },
   "file_extension": ".py",
   "mimetype": "text/x-python",
   "name": "python",
   "nbconvert_exporter": "python",
   "pygments_lexer": "ipython3",
   "version": "3.10.8"
  }
 },
 "nbformat": 4,
 "nbformat_minor": 5
}
